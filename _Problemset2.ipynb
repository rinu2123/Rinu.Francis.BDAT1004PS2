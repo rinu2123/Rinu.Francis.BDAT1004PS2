{
 "cells": [
  {
   "cell_type": "markdown",
   "id": "de8744c0",
   "metadata": {},
   "source": [
    "# Question 1"
   ]
  },
  {
   "cell_type": "code",
   "execution_count": 1,
   "id": "630c2c3c",
   "metadata": {},
   "outputs": [],
   "source": [
    "a = 0\n",
    "def b():\n",
    "    global a\n",
    "    a = c(a)\n",
    "def c(a):\n",
    "    return a + 2"
   ]
  },
  {
   "cell_type": "code",
   "execution_count": 2,
   "id": "19ae1016",
   "metadata": {},
   "outputs": [],
   "source": [
    "b()"
   ]
  },
  {
   "cell_type": "code",
   "execution_count": 3,
   "id": "7d6a8b84",
   "metadata": {},
   "outputs": [],
   "source": [
    "b()"
   ]
  },
  {
   "cell_type": "code",
   "execution_count": 4,
   "id": "e5be09ab",
   "metadata": {},
   "outputs": [],
   "source": [
    "b()"
   ]
  },
  {
   "cell_type": "code",
   "execution_count": 5,
   "id": "e25efb12",
   "metadata": {},
   "outputs": [
    {
     "data": {
      "text/plain": [
       "6"
      ]
     },
     "execution_count": 5,
     "metadata": {},
     "output_type": "execute_result"
    }
   ],
   "source": [
    "a #The result is 6.For accessing global variable a, the function b calls function c. The function b \n",
    "#calls function c passing the a's current value which is 0 at start of the invocation. Function c updates \n",
    "# the value of a by increasing it by 2 Second invocation of the function b now the global variable\n",
    "# has value 2.we got at the start of the invocation a=2 at the end of the second invocation a=4. Third\n",
    "#invocation of function b, at the start of third invocation a=4,at the end a=6"
   ]
  },
  {
   "cell_type": "markdown",
   "id": "2ff2f23a",
   "metadata": {},
   "source": [
    "# Question 2"
   ]
  },
  {
   "cell_type": "code",
   "execution_count": null,
   "id": "c02069c0",
   "metadata": {},
   "outputs": [],
   "source": [
    "def fileLength(file_name):\n",
    "    try:\n",
    "        file = open(file_name)\n",
    "        contents = file.read()\n",
    "        file.close()\n",
    "        print(len(contents))\n",
    "    except FileNotFoundError:\n",
    "        print(f\"File {file_name} not found\")\n",
    "fileLength('Filelength.txt')\n",
    "fileLength('midterm.py')"
   ]
  },
  {
   "cell_type": "markdown",
   "id": "9df05a46",
   "metadata": {},
   "source": [
    "# Question 3"
   ]
  },
  {
   "cell_type": "code",
   "execution_count": 7,
   "id": "9e8ee019",
   "metadata": {},
   "outputs": [
    {
     "name": "stdout",
     "output_type": "stream",
     "text": [
      "['doll', 'firetruck', 'kitten']\n"
     ]
    }
   ],
   "source": [
    "class Marsupial:\n",
    "    \n",
    "    def __init__(self):\n",
    "        self.contents=[]\n",
    "    def put_in_pouch(self,a):\n",
    "        self.contents.append(a)\n",
    "    def pouch_contents(self):\n",
    "        print(self.contents)\n",
    "m = Marsupial()\n",
    "m.put_in_pouch('doll')\n",
    "m.put_in_pouch('firetruck')\n",
    "m.put_in_pouch('kitten')\n",
    "m.pouch_contents()"
   ]
  },
  {
   "cell_type": "code",
   "execution_count": 8,
   "id": "55b930aa",
   "metadata": {},
   "outputs": [],
   "source": [
    "class Kangaroo(Marsupial):\n",
    "    def __init__(self,x,y):\n",
    "        super().__init__()\n",
    "        self.xcord= x\n",
    "        self.ycord= y\n",
    "    def jump(self,dx,dy):\n",
    "        self.xcord+=dx\n",
    "        self.ycord+=dy\n",
    "    def __str__(self):\n",
    "        return \"I am a Kangaroo located at coordinates\" + \"(\"+str(self.xcord)+ \",\"+str(self.ycord) +\")\""
   ]
  },
  {
   "cell_type": "code",
   "execution_count": 9,
   "id": "7ca15c3a",
   "metadata": {},
   "outputs": [
    {
     "name": "stdout",
     "output_type": "stream",
     "text": [
      "I am a Kangaroo located at coordinates(0,0)\n",
      "['doll', 'firetruck', 'kitten']\n",
      "I am a Kangaroo located at coordinates(3,0)\n"
     ]
    }
   ],
   "source": [
    "k = Kangaroo(0,0)\n",
    "print(k)\n",
    "k.put_in_pouch('doll')\n",
    "k.put_in_pouch('firetruck')\n",
    "k.put_in_pouch('kitten')\n",
    "k.pouch_contents()\n",
    "k.jump(1,0)\n",
    "k.jump(1,0)\n",
    "k.jump(1,0)\n",
    "print(k)"
   ]
  },
  {
   "cell_type": "markdown",
   "id": "a3358fb4",
   "metadata": {},
   "source": [
    "# Question 4"
   ]
  },
  {
   "cell_type": "code",
   "execution_count": 65,
   "id": "3a40fc52",
   "metadata": {},
   "outputs": [],
   "source": [
    "def collatz(n):\n",
    "    print(n)\n",
    "    if n!=1:\n",
    "        if n%2==0:\n",
    "            n = n//2\n",
    "            n= int(n)\n",
    "            collatz(n)\n",
    "        else:\n",
    "            n= (3*n) +1\n",
    "            n= int(n)\n",
    "            collatz(n)\n",
    "    else:\n",
    "        return"
   ]
  },
  {
   "cell_type": "code",
   "execution_count": 66,
   "id": "2cc1c944",
   "metadata": {},
   "outputs": [
    {
     "name": "stdout",
     "output_type": "stream",
     "text": [
      "1\n"
     ]
    }
   ],
   "source": [
    "collatz(1)"
   ]
  },
  {
   "cell_type": "code",
   "execution_count": 67,
   "id": "3982469a",
   "metadata": {},
   "outputs": [
    {
     "name": "stdout",
     "output_type": "stream",
     "text": [
      "10\n",
      "5\n",
      "16\n",
      "8\n",
      "4\n",
      "2\n",
      "1\n"
     ]
    }
   ],
   "source": [
    "collatz(10)"
   ]
  },
  {
   "cell_type": "markdown",
   "id": "ac0ac9a6",
   "metadata": {},
   "source": [
    "# Question 5"
   ]
  },
  {
   "cell_type": "code",
   "execution_count": 61,
   "id": "b42656a7",
   "metadata": {},
   "outputs": [],
   "source": [
    "def binary(n):\n",
    "    if n==0:\n",
    "        print(\"0\")\n",
    "    elif n==1:\n",
    "        n = str(n)\n",
    "        print(n, end=\"\")\n",
    "    else:\n",
    "        r= n%2\n",
    "        print(r,end=\"\")\n",
    "        n= n//2\n",
    "        binary(n)\n"
   ]
  },
  {
   "cell_type": "code",
   "execution_count": 63,
   "id": "8796632a",
   "metadata": {},
   "outputs": [
    {
     "name": "stdout",
     "output_type": "stream",
     "text": [
      "0\n"
     ]
    }
   ],
   "source": [
    "binary(0)"
   ]
  },
  {
   "cell_type": "code",
   "execution_count": 64,
   "id": "32adc544",
   "metadata": {},
   "outputs": [
    {
     "name": "stdout",
     "output_type": "stream",
     "text": [
      "1"
     ]
    }
   ],
   "source": [
    "binary(1)"
   ]
  },
  {
   "cell_type": "code",
   "execution_count": 62,
   "id": "39f93aa2",
   "metadata": {},
   "outputs": [
    {
     "name": "stdout",
     "output_type": "stream",
     "text": [
      "11"
     ]
    }
   ],
   "source": [
    "binary(3)"
   ]
  },
  {
   "cell_type": "code",
   "execution_count": 58,
   "id": "0cb6f407",
   "metadata": {},
   "outputs": [
    {
     "name": "stdout",
     "output_type": "stream",
     "text": [
      "1001"
     ]
    }
   ],
   "source": [
    "binary(9)"
   ]
  },
  {
   "cell_type": "markdown",
   "id": "765efd9b",
   "metadata": {},
   "source": [
    "# Question 6"
   ]
  },
  {
   "cell_type": "code",
   "execution_count": null,
   "id": "df027e9c",
   "metadata": {},
   "outputs": [],
   "source": [
    "from html.parser import HTMLParser\n",
    "class HeadingParser(HTMLParser):\n",
    "    def __init__(self):\n",
    "        HTMLParser.__init__(self)\n",
    "        self.value=False\n",
    "        self.space= False\n",
    "        \n",
    "        \n",
    "    def handle_starttag(self, tag, attrs):\n",
    "        if tag == \"h1\":\n",
    "            self.value=True\n",
    "        elif tag==\"h2\":\n",
    "            self.value=True\n",
    "            self.space=True\n",
    "    def handle_data(self, data):\n",
    "        if self.value== True:\n",
    "            if self.space==True:\n",
    "                print(\" \"+data.strip(\"\\n\"))\n",
    "            else:\n",
    "                print(data.strip(\"\\n\"))\n",
    "        \n",
    "            \n",
    "infile = open(\"w3c.html\")\n",
    "content = infile.read()\n",
    "infile.close()\n",
    "hp = HeadingParser()\n",
    "hp.feed(content)"
   ]
  },
  {
   "cell_type": "markdown",
   "id": "46828d84",
   "metadata": {},
   "source": [
    "# Question 8"
   ]
  },
  {
   "cell_type": "code",
   "execution_count": null,
   "id": "fa3995fa",
   "metadata": {},
   "outputs": [],
   "source": [
    "import sqlite3\n",
    "con = sqlite3.connect('web.db')\n",
    "cur = con.cursor()\n",
    "cur.execute(\"CREATE TABLE Data(City text,Country text,Season text,Temperature  float ,Rainfall float)\")"
   ]
  },
  {
   "cell_type": "code",
   "execution_count": null,
   "id": "eecd09bc",
   "metadata": {},
   "outputs": [],
   "source": [
    "cur.execute(\"INSERT INTO Data VALUES ('Mumbai', 'India', 'Winter',24.8,5.9)\")\n",
    "cur.execute(\"INSERT INTO Data VALUES ('Mumbai', 'India', 'Spring',28.4,16.2)\")\n",
    "cur.execute(\"INSERT INTO Data VALUES ('Mumbai', 'India', 'Summer',27.9,1549.4)\")\n",
    "cur.execute(\"INSERT INTO Data VALUES ('Mumbai', 'India', 'Fall',27.6,346.0)\")\n",
    "cur.execute(\"INSERT INTO Data VALUES ('London', 'United Kingdom', 'Winter',4.2,207.7)\")\n",
    "cur.execute(\"INSERT INTO Data VALUES ('London', 'United Kingdom', 'Spring',8.3,169.6)\")\n",
    "cur.execute(\"INSERT INTO Data VALUES ('London', 'United Kingdom', 'Summer',15.7,157.0)\")\n",
    "cur.execute(\"INSERT INTO Data VALUES ('London', 'United Kingdom', 'Fall',10.4,218.5)\")\n",
    "cur.execute(\"INSERT INTO Data VALUES ('Cairo', 'Egypt', 'Winter',13.6,16.5)\")\n",
    "cur.execute(\"INSERT INTO Data VALUES ('Cairo', 'Egypt', 'Spring',20.7,6.5)\")\n",
    "cur.execute(\"INSERT INTO Data VALUES ('Cairo', 'Egypt', 'Summer',27.7,0.1)\")\n",
    "cur.execute(\"INSERT INTO Data VALUES ('Cairo', 'Egypt', 'Fall',22.2,4.5)\")"
   ]
  },
  {
   "cell_type": "code",
   "execution_count": null,
   "id": "e43650fe",
   "metadata": {},
   "outputs": [],
   "source": [
    "cur.execute(\"Select * from Data\")\n",
    "cur.fetchall()"
   ]
  },
  {
   "cell_type": "code",
   "execution_count": null,
   "id": "81d7c2e6",
   "metadata": {},
   "outputs": [],
   "source": [
    "#a)\n",
    "cur.execute(\"Select Temperature from Data \")\n",
    "cur.fetchall()"
   ]
  },
  {
   "cell_type": "code",
   "execution_count": 15,
   "id": "2e2357b4",
   "metadata": {},
   "outputs": [
    {
     "data": {
      "text/plain": [
       "[]"
      ]
     },
     "execution_count": 15,
     "metadata": {},
     "output_type": "execute_result"
    }
   ],
   "source": [
    "#b)\n",
    "cur.execute(\"Select Distinct City from Data \")\n",
    "cur.fetchall()"
   ]
  },
  {
   "cell_type": "code",
   "execution_count": null,
   "id": "f91908d2",
   "metadata": {},
   "outputs": [],
   "source": [
    "#c)\n",
    "cur.execute(\"Select * from Data where Country= 'India' \")\n",
    "cur.fetchall()"
   ]
  },
  {
   "cell_type": "code",
   "execution_count": null,
   "id": "723c082b",
   "metadata": {},
   "outputs": [],
   "source": [
    "#d)\n",
    "cur.execute(\"Select * from Data where Season= 'Fall' \")\n",
    "cur.fetchall()"
   ]
  },
  {
   "cell_type": "code",
   "execution_count": null,
   "id": "290d48bf",
   "metadata": {},
   "outputs": [],
   "source": [
    "#e)\n",
    "cur.execute(\"Select City,Country,Season from Data where Rainfall between 200 and 400 \")\n",
    "cur.fetchall()"
   ]
  },
  {
   "cell_type": "code",
   "execution_count": null,
   "id": "d68ef68c",
   "metadata": {},
   "outputs": [],
   "source": [
    "#f)\n",
    "cur.execute(\"Select City,Country from Data where Temperature >20 and Season= 'Fall' order By Temperature  \")\n",
    "cur.fetchall()"
   ]
  },
  {
   "cell_type": "code",
   "execution_count": null,
   "id": "e3dbb2a8",
   "metadata": {},
   "outputs": [],
   "source": [
    "#g)\n",
    "cur.execute(\"Select SUM(Rainfall) from Data where City = 'Cairo'  \")\n",
    "cur.fetchall()"
   ]
  },
  {
   "cell_type": "code",
   "execution_count": null,
   "id": "85cb3f34",
   "metadata": {},
   "outputs": [],
   "source": [
    "#h)\n",
    "cur.execute(\"Select Season,Sum(Rainfall) from Data group by Season \")\n",
    "cur.fetchall()"
   ]
  },
  {
   "cell_type": "markdown",
   "id": "b9300bb8",
   "metadata": {},
   "source": [
    "# Question 9"
   ]
  },
  {
   "cell_type": "code",
   "execution_count": 68,
   "id": "6ddb8c50",
   "metadata": {},
   "outputs": [
    {
     "name": "stdout",
     "output_type": "stream",
     "text": [
      "['THE', 'QUICK', 'BROWN', 'FOX', 'JUMPS', 'OVER', 'THE', 'LAZY', 'DOG']\n"
     ]
    }
   ],
   "source": [
    "#a)\n",
    "words= ['The', 'quick', 'brown', 'fox', 'jumps', 'over','the', 'lazy', 'dog']\n",
    "up= [item.upper() for item in words]\n",
    "print(up)"
   ]
  },
  {
   "cell_type": "code",
   "execution_count": 69,
   "id": "cfbdae36",
   "metadata": {},
   "outputs": [
    {
     "name": "stdout",
     "output_type": "stream",
     "text": [
      "['the', 'quick', 'brown', 'fox', 'jumps', 'over', 'the', 'lazy', 'dog']\n"
     ]
    }
   ],
   "source": [
    "#b)\n",
    "l= [item.lower() for item in words]\n",
    "print(l)"
   ]
  },
  {
   "cell_type": "code",
   "execution_count": 70,
   "id": "30caf760",
   "metadata": {},
   "outputs": [
    {
     "name": "stdout",
     "output_type": "stream",
     "text": [
      "[3, 5, 5, 3, 5, 4, 3, 4, 3]\n"
     ]
    }
   ],
   "source": [
    "#c)\n",
    "l= [len(item) for item in words]\n",
    "print(l)"
   ]
  },
  {
   "cell_type": "code",
   "execution_count": 71,
   "id": "acb1096c",
   "metadata": {},
   "outputs": [
    {
     "name": "stdout",
     "output_type": "stream",
     "text": [
      "[['THE', 'the', 3], ['QUICK', 'quick', 5], ['BROWN', 'brown', 5], ['FOX', 'fox', 3], ['JUMPS', 'jumps', 5], ['OVER', 'over', 4], ['THE', 'the', 3], ['LAZY', 'lazy', 4], ['DOG', 'dog', 3]]\n"
     ]
    }
   ],
   "source": [
    "#d)\n",
    "inner_outer_list= [[item.upper(), item.lower(), len(item)] for item in words]\n",
    "print(inner_outer_list)"
   ]
  },
  {
   "cell_type": "code",
   "execution_count": 72,
   "id": "2e3d22f7",
   "metadata": {},
   "outputs": [
    {
     "name": "stdout",
     "output_type": "stream",
     "text": [
      "['quick', 'brown', 'jumps', 'over', 'lazy']\n"
     ]
    }
   ],
   "source": [
    "#e)\n",
    "more_than_four= [item for item in words if len(item)>3]\n",
    "print(more_than_four)"
   ]
  },
  {
   "cell_type": "code",
   "execution_count": null,
   "id": "633b35a7",
   "metadata": {},
   "outputs": [],
   "source": []
  }
 ],
 "metadata": {
  "kernelspec": {
   "display_name": "Python 3 (ipykernel)",
   "language": "python",
   "name": "python3"
  },
  "language_info": {
   "codemirror_mode": {
    "name": "ipython",
    "version": 3
   },
   "file_extension": ".py",
   "mimetype": "text/x-python",
   "name": "python",
   "nbconvert_exporter": "python",
   "pygments_lexer": "ipython3",
   "version": "3.9.12"
  }
 },
 "nbformat": 4,
 "nbformat_minor": 5
}
